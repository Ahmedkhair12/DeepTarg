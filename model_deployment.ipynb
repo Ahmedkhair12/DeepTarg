{
 "cells": [
  {
   "cell_type": "code",
   "execution_count": 1,
   "id": "57ee441d-ba57-4480-9200-d8f22f714d21",
   "metadata": {
    "execution": {
     "iopub.execute_input": "2024-02-26T10:06:40.976291Z",
     "iopub.status.busy": "2024-02-26T10:06:40.975617Z",
     "iopub.status.idle": "2024-02-26T10:06:42.583647Z",
     "shell.execute_reply": "2024-02-26T10:06:42.582982Z",
     "shell.execute_reply.started": "2024-02-26T10:06:40.976263Z"
    },
    "tags": []
   },
   "outputs": [],
   "source": [
    "import pandas as pd\n",
    "import numpy as np\n",
    "import json\n",
    "import torch\n",
    "import torch.nn.functional as F"
   ]
  },
  {
   "cell_type": "code",
   "execution_count": 2,
   "id": "7f3440b4-f8d5-4b01-85e1-417394a4b4ea",
   "metadata": {
    "execution": {
     "iopub.execute_input": "2024-02-26T10:06:42.585815Z",
     "iopub.status.busy": "2024-02-26T10:06:42.585336Z",
     "iopub.status.idle": "2024-02-26T10:06:42.925025Z",
     "shell.execute_reply": "2024-02-26T10:06:42.924187Z",
     "shell.execute_reply.started": "2024-02-26T10:06:42.585788Z"
    },
    "tags": []
   },
   "outputs": [
    {
     "data": {
      "text/plain": [
       "5528"
      ]
     },
     "execution_count": 2,
     "metadata": {},
     "output_type": "execute_result"
    }
   ],
   "source": [
    "x_dict = torch.load('x_dict.pth')\n",
    "len(x_dict['perturbation'])"
   ]
  },
  {
   "cell_type": "raw",
   "id": "7522cdd7-6fc5-46a9-b4b5-75bf2b386fd2",
   "metadata": {
    "execution": {
     "iopub.execute_input": "2024-02-20T15:55:18.944620Z",
     "iopub.status.busy": "2024-02-20T15:55:18.944224Z",
     "iopub.status.idle": "2024-02-20T15:55:18.950013Z",
     "shell.execute_reply": "2024-02-20T15:55:18.949260Z",
     "shell.execute_reply.started": "2024-02-20T15:55:18.944592Z"
    },
    "tags": []
   },
   "source": [
    "node_features = np.zeros((2, 128), dtype=int)\n",
    "node_features"
   ]
  },
  {
   "cell_type": "code",
   "execution_count": 3,
   "id": "cb6cd61b-387f-4541-926f-7fde2d2ff727",
   "metadata": {
    "execution": {
     "iopub.execute_input": "2024-02-26T10:06:42.926393Z",
     "iopub.status.busy": "2024-02-26T10:06:42.925994Z",
     "iopub.status.idle": "2024-02-26T10:06:42.931679Z",
     "shell.execute_reply": "2024-02-26T10:06:42.931063Z",
     "shell.execute_reply.started": "2024-02-26T10:06:42.926366Z"
    },
    "tags": []
   },
   "outputs": [
    {
     "data": {
      "text/plain": [
       "torch.Size([1, 128])"
      ]
     },
     "execution_count": 3,
     "metadata": {},
     "output_type": "execute_result"
    }
   ],
   "source": [
    "therapeutic_node_embedding = x_dict[\"perturbation\"][-1]\n",
    "therapeutic_node_embedding = torch.unsqueeze(therapeutic_node_embedding, 0)\n",
    "therapeutic_node_embedding.shape"
   ]
  },
  {
   "cell_type": "code",
   "execution_count": 4,
   "id": "9ae0f09e-dd10-4251-a021-00e038e61d8d",
   "metadata": {
    "execution": {
     "iopub.execute_input": "2024-02-26T10:06:42.933133Z",
     "iopub.status.busy": "2024-02-26T10:06:42.932698Z",
     "iopub.status.idle": "2024-02-26T10:06:42.938526Z",
     "shell.execute_reply": "2024-02-26T10:06:42.937808Z",
     "shell.execute_reply.started": "2024-02-26T10:06:42.933095Z"
    },
    "tags": []
   },
   "outputs": [
    {
     "data": {
      "text/plain": [
       "torch.Size([18315, 128])"
      ]
     },
     "execution_count": 4,
     "metadata": {},
     "output_type": "execute_result"
    }
   ],
   "source": [
    "gene_embeddings =  x_dict[\"gene\"]\n",
    "gene_embeddings.shape"
   ]
  },
  {
   "cell_type": "code",
   "execution_count": 5,
   "id": "b2cbc76a-c47b-4361-85e1-eeb6634e9bf5",
   "metadata": {
    "execution": {
     "iopub.execute_input": "2024-02-26T10:06:42.940150Z",
     "iopub.status.busy": "2024-02-26T10:06:42.939454Z",
     "iopub.status.idle": "2024-02-26T10:06:42.947425Z",
     "shell.execute_reply": "2024-02-26T10:06:42.946691Z",
     "shell.execute_reply.started": "2024-02-26T10:06:42.940121Z"
    },
    "tags": []
   },
   "outputs": [
    {
     "data": {
      "text/plain": [
       "tensor([[    0,     0,     0,  ...,     0,     0,     0],\n",
       "        [    0,     1,     2,  ..., 18312, 18313, 18314]])"
      ]
     },
     "execution_count": 5,
     "metadata": {},
     "output_type": "execute_result"
    }
   ],
   "source": [
    "edge_index = np.zeros((2, 18315), dtype=int)\n",
    "#edge_index[0, -1] = 1.0\n",
    "edge_index[1,:] = np.arange(0, 18315)\n",
    "#edge_index[1,18315:] = np.arange(0, 3)\n",
    "edge_label_index = torch.tensor(edge_index)\n",
    "edge_label_index"
   ]
  },
  {
   "cell_type": "code",
   "execution_count": 6,
   "id": "73d3ac3a-7bd9-40ee-b3c2-3ea5507c39fb",
   "metadata": {
    "execution": {
     "iopub.execute_input": "2024-02-26T10:06:42.948939Z",
     "iopub.status.busy": "2024-02-26T10:06:42.948503Z",
     "iopub.status.idle": "2024-02-26T10:06:44.407544Z",
     "shell.execute_reply": "2024-02-26T10:06:44.406898Z",
     "shell.execute_reply.started": "2024-02-26T10:06:42.948904Z"
    },
    "tags": []
   },
   "outputs": [
    {
     "data": {
      "text/plain": [
       "<All keys matched successfully>"
      ]
     },
     "execution_count": 6,
     "metadata": {},
     "output_type": "execute_result"
    }
   ],
   "source": [
    "from model_definition import Classifier\n",
    "\n",
    "classifier = Classifier()\n",
    "classifier.load_state_dict(torch.load('classifier_trained_model.pth'))\n"
   ]
  },
  {
   "cell_type": "code",
   "execution_count": 7,
   "id": "aba45335-a3c6-4f07-b4ff-0b45b264fd7d",
   "metadata": {
    "execution": {
     "iopub.execute_input": "2024-02-26T10:06:44.411221Z",
     "iopub.status.busy": "2024-02-26T10:06:44.410708Z",
     "iopub.status.idle": "2024-02-26T10:06:44.455802Z",
     "shell.execute_reply": "2024-02-26T10:06:44.455149Z",
     "shell.execute_reply.started": "2024-02-26T10:06:44.411190Z"
    },
    "tags": []
   },
   "outputs": [],
   "source": [
    "classifier.eval()\n",
    "with torch.no_grad():\n",
    "    dot_products = classifier(therapeutic_node_embedding, gene_embeddings, edge_label_index)\n",
    "\n",
    "dot_products = dot_products.to('cpu')"
   ]
  },
  {
   "cell_type": "code",
   "execution_count": 8,
   "id": "2ed386f6-c601-4e60-8cbf-aeaf0b9cc2bd",
   "metadata": {
    "execution": {
     "iopub.execute_input": "2024-02-26T10:06:44.457121Z",
     "iopub.status.busy": "2024-02-26T10:06:44.456744Z",
     "iopub.status.idle": "2024-02-26T10:06:44.464187Z",
     "shell.execute_reply": "2024-02-26T10:06:44.463425Z",
     "shell.execute_reply.started": "2024-02-26T10:06:44.457096Z"
    },
    "tags": []
   },
   "outputs": [
    {
     "data": {
      "text/plain": [
       "tensor([1., 1., 1.,  ..., 1., 1., 1.], dtype=torch.float64)"
      ]
     },
     "execution_count": 8,
     "metadata": {},
     "output_type": "execute_result"
    }
   ],
   "source": [
    "edge_labels = torch.tensor(np.ones(18315))\n",
    "edge_labels"
   ]
  },
  {
   "cell_type": "code",
   "execution_count": 9,
   "id": "54075972-9abb-4011-9e1c-a971b9d03949",
   "metadata": {
    "execution": {
     "iopub.execute_input": "2024-02-26T10:06:44.465411Z",
     "iopub.status.busy": "2024-02-26T10:06:44.465068Z",
     "iopub.status.idle": "2024-02-26T10:06:45.237810Z",
     "shell.execute_reply": "2024-02-26T10:06:45.237044Z",
     "shell.execute_reply.started": "2024-02-26T10:06:44.465384Z"
    },
    "tags": []
   },
   "outputs": [
    {
     "data": {
      "text/plain": [
       "tensor([3.4744e-01, 2.6226e-06, 1.1156e-01,  ..., 4.0135e+00, 2.9541e+00,\n",
       "        9.0785e-01])"
      ]
     },
     "execution_count": 9,
     "metadata": {},
     "output_type": "execute_result"
    }
   ],
   "source": [
    "edge_losses = []\n",
    "for i in range(len(edge_labels)):\n",
    "    edge_label = edge_labels[i]\n",
    "    dot_product = dot_products[i]\n",
    "    edge_loss = F.binary_cross_entropy_with_logits(dot_product, edge_label)\n",
    "    edge_losses.append(float(edge_loss))\n",
    "edge_losses = torch.tensor(edge_losses)\n",
    "edge_losses"
   ]
  },
  {
   "cell_type": "code",
   "execution_count": 10,
   "id": "b2cb4bb3-732a-4655-a87d-6514b971068d",
   "metadata": {
    "execution": {
     "iopub.execute_input": "2024-02-26T10:06:45.239221Z",
     "iopub.status.busy": "2024-02-26T10:06:45.238810Z",
     "iopub.status.idle": "2024-02-26T10:06:45.242762Z",
     "shell.execute_reply": "2024-02-26T10:06:45.242096Z",
     "shell.execute_reply.started": "2024-02-26T10:06:45.239192Z"
    },
    "tags": []
   },
   "outputs": [],
   "source": [
    "predicted_edge_scores = 1 - edge_losses"
   ]
  },
  {
   "cell_type": "code",
   "execution_count": 11,
   "id": "d6c32a38-441e-42ce-8998-295911e6fffb",
   "metadata": {
    "execution": {
     "iopub.execute_input": "2024-02-26T10:06:45.243965Z",
     "iopub.status.busy": "2024-02-26T10:06:45.243671Z",
     "iopub.status.idle": "2024-02-26T10:06:45.249989Z",
     "shell.execute_reply": "2024-02-26T10:06:45.249050Z",
     "shell.execute_reply.started": "2024-02-26T10:06:45.243941Z"
    },
    "tags": []
   },
   "outputs": [
    {
     "name": "stdout",
     "output_type": "stream",
     "text": [
      "Top predicted targets: [0.9999998807907104, 0.9999997615814209, 0.9999992847442627, 0.9999991655349731, 0.999998927116394, 0.9999988079071045, 0.9999988079071045, 0.9999986886978149, 0.9999984502792358, 0.9999974966049194, 0.9999973773956299, 0.9999960660934448, 0.999995231628418, 0.9999943971633911, 0.9999943971633911, 0.9999936819076538, 0.999992847442627, 0.9999897480010986, 0.9999876022338867, 0.9999865293502808]\n",
      "Indices of targets: [14, 501, 19, 843, 584, 106, 77, 176, 11, 7, 1, 25, 1083, 1252, 583, 427, 1753, 472, 307, 108]\n"
     ]
    }
   ],
   "source": [
    "\n",
    "k = 20\n",
    "# Use torch.topk to get the indices and values of the k smallest elements\n",
    "top_edge_scores, top_indices = torch.topk(predicted_edge_scores, k)\n",
    "top_edge_scores = top_edge_scores.tolist()\n",
    "top_indices = top_indices.tolist()\n",
    "    \n",
    "# Negate the top smallest values back to original values\n",
    "#top_edge_scores = -top_smallest_losses\n",
    "\n",
    "print(\"Top predicted targets:\", top_edge_scores)\n",
    "print(\"Indices of targets:\", top_indices)\n"
   ]
  },
  {
   "cell_type": "code",
   "execution_count": 12,
   "id": "01e53339-bac0-4706-8431-79695ea2e678",
   "metadata": {
    "execution": {
     "iopub.execute_input": "2024-02-26T10:06:45.251478Z",
     "iopub.status.busy": "2024-02-26T10:06:45.251062Z",
     "iopub.status.idle": "2024-02-26T10:06:45.266951Z",
     "shell.execute_reply": "2024-02-26T10:06:45.266169Z",
     "shell.execute_reply.started": "2024-02-26T10:06:45.251452Z"
    },
    "tags": []
   },
   "outputs": [
    {
     "name": "stdout",
     "output_type": "stream",
     "text": [
      "18315\n"
     ]
    }
   ],
   "source": [
    "# gene_mapping_dictionary from json file, consider datatypes in the dictionary!\n",
    "import json\n",
    "file_path = 'mapping_dicts/genes_dict.json'\n",
    "with open(file_path, 'r') as json_file:\n",
    "    genes_dict_json = json.load(json_file)\n",
    "\n",
    "#convert back strings into integers as they got mutated in json conversion! \n",
    "    genes_dict = {value: int(key) for key, value in genes_dict_json.items()}\n",
    "    \n",
    "print(len(genes_dict))"
   ]
  },
  {
   "cell_type": "code",
   "execution_count": 58,
   "id": "2387abf5-6d48-4dd4-b680-47499871a7fb",
   "metadata": {
    "execution": {
     "iopub.execute_input": "2024-02-28T11:20:25.180388Z",
     "iopub.status.busy": "2024-02-28T11:20:25.180008Z",
     "iopub.status.idle": "2024-02-28T11:20:25.205334Z",
     "shell.execute_reply": "2024-02-28T11:20:25.204707Z",
     "shell.execute_reply.started": "2024-02-28T11:20:25.180358Z"
    },
    "tags": []
   },
   "outputs": [],
   "source": [
    "gene_names = pd.read_table(\"gene_names.txt\")\n",
    "gene_names = gene_names.dropna()\n",
    "gene_names[\"entrezId\"] = gene_names[\"entrezId\"].astype(\"int\")\n",
    "gene_names = gene_names.set_index(\"entrezId\")"
   ]
  },
  {
   "cell_type": "code",
   "execution_count": 14,
   "id": "fa037e6a-a7e0-4572-9017-9836fab3b81a",
   "metadata": {
    "execution": {
     "iopub.execute_input": "2024-02-26T10:06:45.294989Z",
     "iopub.status.busy": "2024-02-26T10:06:45.294524Z",
     "iopub.status.idle": "2024-02-26T10:06:45.302793Z",
     "shell.execute_reply": "2024-02-26T10:06:45.302013Z",
     "shell.execute_reply.started": "2024-02-26T10:06:45.294950Z"
    },
    "tags": []
   },
   "outputs": [
    {
     "name": "stdout",
     "output_type": "stream",
     "text": [
      "Gene_Id    Gene_symbol          Score\n",
      "23         ABCF1                1.0\n",
      "728        C5AR1                1.0\n",
      "28         ABO                  1.0\n",
      "1188       Unknown              1.0\n",
      "836        CASP3                1.0\n",
      "154        ADRB2                1.0\n",
      "116        ADCYAP1              1.0\n",
      "258        AMBN                 1.0\n",
      "20         ABCA2                1.0\n",
      "15         AANAT                1.0\n",
      "2          A2M                  1.0\n",
      "34         ACADM                1.0\n",
      "1544       CYP1A2               1.0\n",
      "1810       DR1                  0.99999\n",
      "835        CASP2                0.99999\n",
      "634        CEACAM1              0.99999\n",
      "2658       GDF2                 0.99999\n",
      "684        BST2                 0.99999\n",
      "429        ASCL1                0.99999\n",
      "156        ADRBK1               0.99999\n"
     ]
    }
   ],
   "source": [
    "print(\"Gene_Id\".ljust(10), \"Gene_symbol\".ljust(20), \"Score\")\n",
    "gene_ids = []\n",
    "gene_symbols =[]\n",
    "scores = []\n",
    "for i in range(len(top_indices)):\n",
    "    gene_id = genes_dict[top_indices[i]]\n",
    "    gene_ids.append(gene_id)\n",
    "    score = round(top_edge_scores[i], 5)\n",
    "    scores.append(score)\n",
    "    if gene_id in gene_names[\"geneSymbol\"]:\n",
    "        gene_symbol = gene_names.loc[gene_id, \"geneSymbol\"]\n",
    "    else:\n",
    "        gene_symbol = \"Unknown\"\n",
    "    gene_symbols.append(gene_symbol)\n",
    "\n",
    "for i in range(len(gene_ids)):\n",
    "    print(str(gene_ids[i]).ljust(10), str(gene_symbols[i]).ljust(20), str(scores[i]))"
   ]
  },
  {
   "cell_type": "code",
   "execution_count": 44,
   "id": "9f22a6c2-52c7-4c6c-bb50-dd45bb865584",
   "metadata": {
    "execution": {
     "iopub.execute_input": "2024-02-28T10:58:30.484337Z",
     "iopub.status.busy": "2024-02-28T10:58:30.483957Z",
     "iopub.status.idle": "2024-02-28T10:58:30.496290Z",
     "shell.execute_reply": "2024-02-28T10:58:30.495441Z",
     "shell.execute_reply.started": "2024-02-28T10:58:30.484308Z"
    },
    "tags": []
   },
   "outputs": [
    {
     "data": {
      "text/html": [
       "<div>\n",
       "<style scoped>\n",
       "    .dataframe tbody tr th:only-of-type {\n",
       "        vertical-align: middle;\n",
       "    }\n",
       "\n",
       "    .dataframe tbody tr th {\n",
       "        vertical-align: top;\n",
       "    }\n",
       "\n",
       "    .dataframe thead th {\n",
       "        text-align: right;\n",
       "    }\n",
       "</style>\n",
       "<table border=\"1\" class=\"dataframe\">\n",
       "  <thead>\n",
       "    <tr style=\"text-align: right;\">\n",
       "      <th></th>\n",
       "      <th>id</th>\n",
       "      <th>score</th>\n",
       "    </tr>\n",
       "  </thead>\n",
       "  <tbody>\n",
       "    <tr>\n",
       "      <th>0</th>\n",
       "      <td>1</td>\n",
       "      <td>0.953167</td>\n",
       "    </tr>\n",
       "    <tr>\n",
       "      <th>1</th>\n",
       "      <td>2</td>\n",
       "      <td>0.890750</td>\n",
       "    </tr>\n",
       "    <tr>\n",
       "      <th>2</th>\n",
       "      <td>9</td>\n",
       "      <td>0.942900</td>\n",
       "    </tr>\n",
       "    <tr>\n",
       "      <th>3</th>\n",
       "      <td>10</td>\n",
       "      <td>0.971429</td>\n",
       "    </tr>\n",
       "    <tr>\n",
       "      <th>4</th>\n",
       "      <td>12</td>\n",
       "      <td>0.969500</td>\n",
       "    </tr>\n",
       "    <tr>\n",
       "      <th>...</th>\n",
       "      <td>...</td>\n",
       "      <td>...</td>\n",
       "    </tr>\n",
       "    <tr>\n",
       "      <th>1049</th>\n",
       "      <td>127343</td>\n",
       "      <td>0.763000</td>\n",
       "    </tr>\n",
       "    <tr>\n",
       "      <th>1050</th>\n",
       "      <td>127829</td>\n",
       "      <td>0.731000</td>\n",
       "    </tr>\n",
       "    <tr>\n",
       "      <th>1051</th>\n",
       "      <td>143098</td>\n",
       "      <td>0.691000</td>\n",
       "    </tr>\n",
       "    <tr>\n",
       "      <th>1052</th>\n",
       "      <td>153768</td>\n",
       "      <td>0.667000</td>\n",
       "    </tr>\n",
       "    <tr>\n",
       "      <th>1053</th>\n",
       "      <td>728621</td>\n",
       "      <td>0.734000</td>\n",
       "    </tr>\n",
       "  </tbody>\n",
       "</table>\n",
       "<p>1054 rows × 2 columns</p>\n",
       "</div>"
      ],
      "text/plain": [
       "          id     score\n",
       "0          1  0.953167\n",
       "1          2  0.890750\n",
       "2          9  0.942900\n",
       "3         10  0.971429\n",
       "4         12  0.969500\n",
       "...      ...       ...\n",
       "1049  127343  0.763000\n",
       "1050  127829  0.731000\n",
       "1051  143098  0.691000\n",
       "1052  153768  0.667000\n",
       "1053  728621  0.734000\n",
       "\n",
       "[1054 rows x 2 columns]"
      ]
     },
     "execution_count": 44,
     "metadata": {},
     "output_type": "execute_result"
    }
   ],
   "source": [
    "mean_values = df.groupby('id')['score'].mean().reset_index()\n",
    "mean_values"
   ]
  },
  {
   "cell_type": "code",
   "execution_count": 45,
   "id": "187c8332-6b37-481f-8042-80878b640c8c",
   "metadata": {
    "execution": {
     "iopub.execute_input": "2024-02-28T10:58:44.813521Z",
     "iopub.status.busy": "2024-02-28T10:58:44.813134Z",
     "iopub.status.idle": "2024-02-28T10:58:44.825262Z",
     "shell.execute_reply": "2024-02-28T10:58:44.824383Z",
     "shell.execute_reply.started": "2024-02-28T10:58:44.813492Z"
    },
    "tags": []
   },
   "outputs": [
    {
     "data": {
      "text/html": [
       "<div>\n",
       "<style scoped>\n",
       "    .dataframe tbody tr th:only-of-type {\n",
       "        vertical-align: middle;\n",
       "    }\n",
       "\n",
       "    .dataframe tbody tr th {\n",
       "        vertical-align: top;\n",
       "    }\n",
       "\n",
       "    .dataframe thead th {\n",
       "        text-align: right;\n",
       "    }\n",
       "</style>\n",
       "<table border=\"1\" class=\"dataframe\">\n",
       "  <thead>\n",
       "    <tr style=\"text-align: right;\">\n",
       "      <th></th>\n",
       "      <th>id</th>\n",
       "      <th>Count</th>\n",
       "    </tr>\n",
       "  </thead>\n",
       "  <tbody>\n",
       "    <tr>\n",
       "      <th>0</th>\n",
       "      <td>1</td>\n",
       "      <td>12</td>\n",
       "    </tr>\n",
       "    <tr>\n",
       "      <th>1</th>\n",
       "      <td>2</td>\n",
       "      <td>8</td>\n",
       "    </tr>\n",
       "    <tr>\n",
       "      <th>2</th>\n",
       "      <td>9</td>\n",
       "      <td>10</td>\n",
       "    </tr>\n",
       "    <tr>\n",
       "      <th>3</th>\n",
       "      <td>10</td>\n",
       "      <td>7</td>\n",
       "    </tr>\n",
       "    <tr>\n",
       "      <th>4</th>\n",
       "      <td>12</td>\n",
       "      <td>4</td>\n",
       "    </tr>\n",
       "    <tr>\n",
       "      <th>...</th>\n",
       "      <td>...</td>\n",
       "      <td>...</td>\n",
       "    </tr>\n",
       "    <tr>\n",
       "      <th>1049</th>\n",
       "      <td>127343</td>\n",
       "      <td>1</td>\n",
       "    </tr>\n",
       "    <tr>\n",
       "      <th>1050</th>\n",
       "      <td>127829</td>\n",
       "      <td>1</td>\n",
       "    </tr>\n",
       "    <tr>\n",
       "      <th>1051</th>\n",
       "      <td>143098</td>\n",
       "      <td>1</td>\n",
       "    </tr>\n",
       "    <tr>\n",
       "      <th>1052</th>\n",
       "      <td>153768</td>\n",
       "      <td>1</td>\n",
       "    </tr>\n",
       "    <tr>\n",
       "      <th>1053</th>\n",
       "      <td>728621</td>\n",
       "      <td>1</td>\n",
       "    </tr>\n",
       "  </tbody>\n",
       "</table>\n",
       "<p>1054 rows × 2 columns</p>\n",
       "</div>"
      ],
      "text/plain": [
       "          id  Count\n",
       "0          1     12\n",
       "1          2      8\n",
       "2          9     10\n",
       "3         10      7\n",
       "4         12      4\n",
       "...      ...    ...\n",
       "1049  127343      1\n",
       "1050  127829      1\n",
       "1051  143098      1\n",
       "1052  153768      1\n",
       "1053  728621      1\n",
       "\n",
       "[1054 rows x 2 columns]"
      ]
     },
     "execution_count": 45,
     "metadata": {},
     "output_type": "execute_result"
    }
   ],
   "source": [
    "# Sort by counts in descending order\n",
    "counts = df.groupby('id').size().reset_index(name='Count')\n",
    "counts"
   ]
  },
  {
   "cell_type": "code",
   "execution_count": 56,
   "id": "77ad4287-a57e-4df0-86af-2840b2597d43",
   "metadata": {
    "execution": {
     "iopub.execute_input": "2024-02-28T11:18:04.096941Z",
     "iopub.status.busy": "2024-02-28T11:18:04.096556Z",
     "iopub.status.idle": "2024-02-28T11:18:04.110001Z",
     "shell.execute_reply": "2024-02-28T11:18:04.109147Z",
     "shell.execute_reply.started": "2024-02-28T11:18:04.096911Z"
    },
    "tags": []
   },
   "outputs": [
    {
     "data": {
      "text/html": [
       "<div>\n",
       "<style scoped>\n",
       "    .dataframe tbody tr th:only-of-type {\n",
       "        vertical-align: middle;\n",
       "    }\n",
       "\n",
       "    .dataframe tbody tr th {\n",
       "        vertical-align: top;\n",
       "    }\n",
       "\n",
       "    .dataframe thead th {\n",
       "        text-align: right;\n",
       "    }\n",
       "</style>\n",
       "<table border=\"1\" class=\"dataframe\">\n",
       "  <thead>\n",
       "    <tr style=\"text-align: right;\">\n",
       "      <th></th>\n",
       "      <th>id</th>\n",
       "      <th>score</th>\n",
       "      <th>Count</th>\n",
       "    </tr>\n",
       "  </thead>\n",
       "  <tbody>\n",
       "    <tr>\n",
       "      <th>0</th>\n",
       "      <td>1</td>\n",
       "      <td>0.953167</td>\n",
       "      <td>12</td>\n",
       "    </tr>\n",
       "    <tr>\n",
       "      <th>1</th>\n",
       "      <td>2</td>\n",
       "      <td>0.890750</td>\n",
       "      <td>8</td>\n",
       "    </tr>\n",
       "    <tr>\n",
       "      <th>2</th>\n",
       "      <td>9</td>\n",
       "      <td>0.942900</td>\n",
       "      <td>10</td>\n",
       "    </tr>\n",
       "    <tr>\n",
       "      <th>3</th>\n",
       "      <td>10</td>\n",
       "      <td>0.971429</td>\n",
       "      <td>7</td>\n",
       "    </tr>\n",
       "    <tr>\n",
       "      <th>4</th>\n",
       "      <td>12</td>\n",
       "      <td>0.969500</td>\n",
       "      <td>4</td>\n",
       "    </tr>\n",
       "    <tr>\n",
       "      <th>...</th>\n",
       "      <td>...</td>\n",
       "      <td>...</td>\n",
       "      <td>...</td>\n",
       "    </tr>\n",
       "    <tr>\n",
       "      <th>1049</th>\n",
       "      <td>127343</td>\n",
       "      <td>0.763000</td>\n",
       "      <td>1</td>\n",
       "    </tr>\n",
       "    <tr>\n",
       "      <th>1050</th>\n",
       "      <td>127829</td>\n",
       "      <td>0.731000</td>\n",
       "      <td>1</td>\n",
       "    </tr>\n",
       "    <tr>\n",
       "      <th>1051</th>\n",
       "      <td>143098</td>\n",
       "      <td>0.691000</td>\n",
       "      <td>1</td>\n",
       "    </tr>\n",
       "    <tr>\n",
       "      <th>1052</th>\n",
       "      <td>153768</td>\n",
       "      <td>0.667000</td>\n",
       "      <td>1</td>\n",
       "    </tr>\n",
       "    <tr>\n",
       "      <th>1053</th>\n",
       "      <td>728621</td>\n",
       "      <td>0.734000</td>\n",
       "      <td>1</td>\n",
       "    </tr>\n",
       "  </tbody>\n",
       "</table>\n",
       "<p>1054 rows × 3 columns</p>\n",
       "</div>"
      ],
      "text/plain": [
       "          id     score  Count\n",
       "0          1  0.953167     12\n",
       "1          2  0.890750      8\n",
       "2          9  0.942900     10\n",
       "3         10  0.971429      7\n",
       "4         12  0.969500      4\n",
       "...      ...       ...    ...\n",
       "1049  127343  0.763000      1\n",
       "1050  127829  0.731000      1\n",
       "1051  143098  0.691000      1\n",
       "1052  153768  0.667000      1\n",
       "1053  728621  0.734000      1\n",
       "\n",
       "[1054 rows x 3 columns]"
      ]
     },
     "execution_count": 56,
     "metadata": {},
     "output_type": "execute_result"
    }
   ],
   "source": [
    "# Merge counts back into the original DataFrame\n",
    "df_merged = pd.merge(mean_values, counts, on='id')\n",
    "df_merged"
   ]
  },
  {
   "cell_type": "code",
   "execution_count": 57,
   "id": "11771d63-81f7-4e70-a1f7-cbbbe5f9a980",
   "metadata": {
    "execution": {
     "iopub.execute_input": "2024-02-28T11:18:06.477250Z",
     "iopub.status.busy": "2024-02-28T11:18:06.476870Z",
     "iopub.status.idle": "2024-02-28T11:18:06.491255Z",
     "shell.execute_reply": "2024-02-28T11:18:06.490370Z",
     "shell.execute_reply.started": "2024-02-28T11:18:06.477221Z"
    },
    "tags": []
   },
   "outputs": [
    {
     "data": {
      "text/html": [
       "<div>\n",
       "<style scoped>\n",
       "    .dataframe tbody tr th:only-of-type {\n",
       "        vertical-align: middle;\n",
       "    }\n",
       "\n",
       "    .dataframe tbody tr th {\n",
       "        vertical-align: top;\n",
       "    }\n",
       "\n",
       "    .dataframe thead th {\n",
       "        text-align: right;\n",
       "    }\n",
       "</style>\n",
       "<table border=\"1\" class=\"dataframe\">\n",
       "  <thead>\n",
       "    <tr style=\"text-align: right;\">\n",
       "      <th></th>\n",
       "      <th>id</th>\n",
       "      <th>score</th>\n",
       "      <th>Count</th>\n",
       "      <th>adj_score</th>\n",
       "    </tr>\n",
       "  </thead>\n",
       "  <tbody>\n",
       "    <tr>\n",
       "      <th>0</th>\n",
       "      <td>22</td>\n",
       "      <td>0.929000</td>\n",
       "      <td>13</td>\n",
       "      <td>2.382838</td>\n",
       "    </tr>\n",
       "    <tr>\n",
       "      <th>1</th>\n",
       "      <td>1</td>\n",
       "      <td>0.953167</td>\n",
       "      <td>12</td>\n",
       "      <td>2.368530</td>\n",
       "    </tr>\n",
       "    <tr>\n",
       "      <th>2</th>\n",
       "      <td>13</td>\n",
       "      <td>0.952545</td>\n",
       "      <td>11</td>\n",
       "      <td>2.284104</td>\n",
       "    </tr>\n",
       "    <tr>\n",
       "      <th>3</th>\n",
       "      <td>30</td>\n",
       "      <td>0.970100</td>\n",
       "      <td>10</td>\n",
       "      <td>2.233738</td>\n",
       "    </tr>\n",
       "    <tr>\n",
       "      <th>4</th>\n",
       "      <td>36</td>\n",
       "      <td>0.953300</td>\n",
       "      <td>10</td>\n",
       "      <td>2.195054</td>\n",
       "    </tr>\n",
       "    <tr>\n",
       "      <th>5</th>\n",
       "      <td>9</td>\n",
       "      <td>0.942900</td>\n",
       "      <td>10</td>\n",
       "      <td>2.171107</td>\n",
       "    </tr>\n",
       "    <tr>\n",
       "      <th>6</th>\n",
       "      <td>19</td>\n",
       "      <td>0.935800</td>\n",
       "      <td>10</td>\n",
       "      <td>2.154759</td>\n",
       "    </tr>\n",
       "    <tr>\n",
       "      <th>7</th>\n",
       "      <td>18</td>\n",
       "      <td>0.978778</td>\n",
       "      <td>9</td>\n",
       "      <td>2.150595</td>\n",
       "    </tr>\n",
       "    <tr>\n",
       "      <th>8</th>\n",
       "      <td>21</td>\n",
       "      <td>0.957778</td>\n",
       "      <td>9</td>\n",
       "      <td>2.104453</td>\n",
       "    </tr>\n",
       "    <tr>\n",
       "      <th>9</th>\n",
       "      <td>28</td>\n",
       "      <td>0.967000</td>\n",
       "      <td>8</td>\n",
       "      <td>2.010820</td>\n",
       "    </tr>\n",
       "    <tr>\n",
       "      <th>10</th>\n",
       "      <td>27</td>\n",
       "      <td>0.957875</td>\n",
       "      <td>8</td>\n",
       "      <td>1.991845</td>\n",
       "    </tr>\n",
       "    <tr>\n",
       "      <th>11</th>\n",
       "      <td>24</td>\n",
       "      <td>0.956625</td>\n",
       "      <td>8</td>\n",
       "      <td>1.989246</td>\n",
       "    </tr>\n",
       "    <tr>\n",
       "      <th>12</th>\n",
       "      <td>330</td>\n",
       "      <td>0.936750</td>\n",
       "      <td>8</td>\n",
       "      <td>1.947917</td>\n",
       "    </tr>\n",
       "    <tr>\n",
       "      <th>13</th>\n",
       "      <td>23</td>\n",
       "      <td>0.988429</td>\n",
       "      <td>7</td>\n",
       "      <td>1.923393</td>\n",
       "    </tr>\n",
       "    <tr>\n",
       "      <th>14</th>\n",
       "      <td>10</td>\n",
       "      <td>0.971429</td>\n",
       "      <td>7</td>\n",
       "      <td>1.890313</td>\n",
       "    </tr>\n",
       "    <tr>\n",
       "      <th>15</th>\n",
       "      <td>16</td>\n",
       "      <td>0.969857</td>\n",
       "      <td>7</td>\n",
       "      <td>1.887255</td>\n",
       "    </tr>\n",
       "    <tr>\n",
       "      <th>16</th>\n",
       "      <td>2</td>\n",
       "      <td>0.890750</td>\n",
       "      <td>8</td>\n",
       "      <td>1.852263</td>\n",
       "    </tr>\n",
       "    <tr>\n",
       "      <th>17</th>\n",
       "      <td>33</td>\n",
       "      <td>0.945000</td>\n",
       "      <td>7</td>\n",
       "      <td>1.838885</td>\n",
       "    </tr>\n",
       "    <tr>\n",
       "      <th>18</th>\n",
       "      <td>131</td>\n",
       "      <td>0.944286</td>\n",
       "      <td>7</td>\n",
       "      <td>1.837495</td>\n",
       "    </tr>\n",
       "    <tr>\n",
       "      <th>19</th>\n",
       "      <td>306</td>\n",
       "      <td>0.984833</td>\n",
       "      <td>6</td>\n",
       "      <td>1.764584</td>\n",
       "    </tr>\n",
       "  </tbody>\n",
       "</table>\n",
       "</div>"
      ],
      "text/plain": [
       "     id     score  Count  adj_score\n",
       "0    22  0.929000     13   2.382838\n",
       "1     1  0.953167     12   2.368530\n",
       "2    13  0.952545     11   2.284104\n",
       "3    30  0.970100     10   2.233738\n",
       "4    36  0.953300     10   2.195054\n",
       "5     9  0.942900     10   2.171107\n",
       "6    19  0.935800     10   2.154759\n",
       "7    18  0.978778      9   2.150595\n",
       "8    21  0.957778      9   2.104453\n",
       "9    28  0.967000      8   2.010820\n",
       "10   27  0.957875      8   1.991845\n",
       "11   24  0.956625      8   1.989246\n",
       "12  330  0.936750      8   1.947917\n",
       "13   23  0.988429      7   1.923393\n",
       "14   10  0.971429      7   1.890313\n",
       "15   16  0.969857      7   1.887255\n",
       "16    2  0.890750      8   1.852263\n",
       "17   33  0.945000      7   1.838885\n",
       "18  131  0.944286      7   1.837495\n",
       "19  306  0.984833      6   1.764584"
      ]
     },
     "execution_count": 57,
     "metadata": {},
     "output_type": "execute_result"
    }
   ],
   "source": [
    "import numpy as np\n",
    "\n",
    "df_merged['adj_score'] = np.log(df_merged['Count']) * df_merged['score']\n",
    "df_merged = df_merged.sort_values(by='adj_score', ascending=False).reset_index(drop=True)\n",
    "\n",
    "df_merged.head(20)"
   ]
  },
  {
   "cell_type": "code",
   "execution_count": 61,
   "id": "44981547-68c1-4392-b481-8a8ee2dbe949",
   "metadata": {
    "execution": {
     "iopub.execute_input": "2024-02-28T11:22:12.613776Z",
     "iopub.status.busy": "2024-02-28T11:22:12.613386Z",
     "iopub.status.idle": "2024-02-28T11:22:12.643362Z",
     "shell.execute_reply": "2024-02-28T11:22:12.642505Z",
     "shell.execute_reply.started": "2024-02-28T11:22:12.613744Z"
    },
    "tags": []
   },
   "outputs": [
    {
     "data": {
      "text/plain": [
       "1054"
      ]
     },
     "execution_count": 61,
     "metadata": {},
     "output_type": "execute_result"
    }
   ],
   "source": [
    "symbols = []\n",
    "for i in range(len(counts_df)):\n",
    "    gene_id = df_merged.loc[i,'id'] \n",
    "    if gene_id in gene_names[\"geneSymbol\"]:\n",
    "        gene_symbol = gene_names.loc[gene_id, \"geneSymbol\"]\n",
    "    else:\n",
    "        gene_symbol = \"Unknown\"\n",
    "    symbols.append(symbol)\n",
    "len(symbols)"
   ]
  },
  {
   "cell_type": "code",
   "execution_count": 80,
   "id": "2bd6eb64-02f2-4f52-98df-4fe49fea6271",
   "metadata": {
    "execution": {
     "iopub.execute_input": "2024-02-28T11:37:45.668032Z",
     "iopub.status.busy": "2024-02-28T11:37:45.667607Z",
     "iopub.status.idle": "2024-02-28T11:37:45.671787Z",
     "shell.execute_reply": "2024-02-28T11:37:45.670870Z",
     "shell.execute_reply.started": "2024-02-28T11:37:45.667998Z"
    },
    "tags": []
   },
   "outputs": [],
   "source": [
    "#symbols"
   ]
  },
  {
   "cell_type": "code",
   "execution_count": 62,
   "id": "65f6f6c6-6c71-42d1-8a8c-5a898a5267bd",
   "metadata": {
    "execution": {
     "iopub.execute_input": "2024-02-28T11:22:45.904251Z",
     "iopub.status.busy": "2024-02-28T11:22:45.903840Z",
     "iopub.status.idle": "2024-02-28T11:22:45.917544Z",
     "shell.execute_reply": "2024-02-28T11:22:45.916738Z",
     "shell.execute_reply.started": "2024-02-28T11:22:45.904221Z"
    },
    "tags": []
   },
   "outputs": [
    {
     "data": {
      "text/html": [
       "<div>\n",
       "<style scoped>\n",
       "    .dataframe tbody tr th:only-of-type {\n",
       "        vertical-align: middle;\n",
       "    }\n",
       "\n",
       "    .dataframe tbody tr th {\n",
       "        vertical-align: top;\n",
       "    }\n",
       "\n",
       "    .dataframe thead th {\n",
       "        text-align: right;\n",
       "    }\n",
       "</style>\n",
       "<table border=\"1\" class=\"dataframe\">\n",
       "  <thead>\n",
       "    <tr style=\"text-align: right;\">\n",
       "      <th></th>\n",
       "      <th>id</th>\n",
       "      <th>score</th>\n",
       "      <th>Count</th>\n",
       "      <th>adj_score</th>\n",
       "      <th>symbols</th>\n",
       "    </tr>\n",
       "  </thead>\n",
       "  <tbody>\n",
       "    <tr>\n",
       "      <th>0</th>\n",
       "      <td>22</td>\n",
       "      <td>0.929000</td>\n",
       "      <td>13</td>\n",
       "      <td>2.382838</td>\n",
       "      <td>ACO2</td>\n",
       "    </tr>\n",
       "    <tr>\n",
       "      <th>1</th>\n",
       "      <td>1</td>\n",
       "      <td>0.953167</td>\n",
       "      <td>12</td>\n",
       "      <td>2.368530</td>\n",
       "      <td>ACO2</td>\n",
       "    </tr>\n",
       "    <tr>\n",
       "      <th>2</th>\n",
       "      <td>13</td>\n",
       "      <td>0.952545</td>\n",
       "      <td>11</td>\n",
       "      <td>2.284104</td>\n",
       "      <td>ACO2</td>\n",
       "    </tr>\n",
       "    <tr>\n",
       "      <th>3</th>\n",
       "      <td>30</td>\n",
       "      <td>0.970100</td>\n",
       "      <td>10</td>\n",
       "      <td>2.233738</td>\n",
       "      <td>ACO2</td>\n",
       "    </tr>\n",
       "    <tr>\n",
       "      <th>4</th>\n",
       "      <td>36</td>\n",
       "      <td>0.953300</td>\n",
       "      <td>10</td>\n",
       "      <td>2.195054</td>\n",
       "      <td>ACO2</td>\n",
       "    </tr>\n",
       "    <tr>\n",
       "      <th>...</th>\n",
       "      <td>...</td>\n",
       "      <td>...</td>\n",
       "      <td>...</td>\n",
       "      <td>...</td>\n",
       "      <td>...</td>\n",
       "    </tr>\n",
       "    <tr>\n",
       "      <th>1049</th>\n",
       "      <td>1075</td>\n",
       "      <td>0.873000</td>\n",
       "      <td>1</td>\n",
       "      <td>0.000000</td>\n",
       "      <td>ACO2</td>\n",
       "    </tr>\n",
       "    <tr>\n",
       "      <th>1050</th>\n",
       "      <td>1081</td>\n",
       "      <td>0.997000</td>\n",
       "      <td>1</td>\n",
       "      <td>0.000000</td>\n",
       "      <td>ACO2</td>\n",
       "    </tr>\n",
       "    <tr>\n",
       "      <th>1051</th>\n",
       "      <td>1087</td>\n",
       "      <td>0.970000</td>\n",
       "      <td>1</td>\n",
       "      <td>0.000000</td>\n",
       "      <td>ACO2</td>\n",
       "    </tr>\n",
       "    <tr>\n",
       "      <th>1052</th>\n",
       "      <td>1088</td>\n",
       "      <td>0.997000</td>\n",
       "      <td>1</td>\n",
       "      <td>0.000000</td>\n",
       "      <td>ACO2</td>\n",
       "    </tr>\n",
       "    <tr>\n",
       "      <th>1053</th>\n",
       "      <td>728621</td>\n",
       "      <td>0.734000</td>\n",
       "      <td>1</td>\n",
       "      <td>0.000000</td>\n",
       "      <td>ACO2</td>\n",
       "    </tr>\n",
       "  </tbody>\n",
       "</table>\n",
       "<p>1054 rows × 5 columns</p>\n",
       "</div>"
      ],
      "text/plain": [
       "          id     score  Count  adj_score symbols\n",
       "0         22  0.929000     13   2.382838    ACO2\n",
       "1          1  0.953167     12   2.368530    ACO2\n",
       "2         13  0.952545     11   2.284104    ACO2\n",
       "3         30  0.970100     10   2.233738    ACO2\n",
       "4         36  0.953300     10   2.195054    ACO2\n",
       "...      ...       ...    ...        ...     ...\n",
       "1049    1075  0.873000      1   0.000000    ACO2\n",
       "1050    1081  0.997000      1   0.000000    ACO2\n",
       "1051    1087  0.970000      1   0.000000    ACO2\n",
       "1052    1088  0.997000      1   0.000000    ACO2\n",
       "1053  728621  0.734000      1   0.000000    ACO2\n",
       "\n",
       "[1054 rows x 5 columns]"
      ]
     },
     "execution_count": 62,
     "metadata": {},
     "output_type": "execute_result"
    }
   ],
   "source": [
    "df_merged['symbols'] = symbols\n",
    "df_merged"
   ]
  },
  {
   "cell_type": "code",
   "execution_count": null,
   "id": "96eb0f2b-6228-46a2-a488-5e387502082c",
   "metadata": {},
   "outputs": [],
   "source": [
    "print(\"Gene_Id\".ljust(10), \"Gene_symbol\".ljust(20), \"Score\")\n",
    "gene_ids = []\n",
    "gene_symbols =[]\n",
    "scores = []\n",
    "for i in range(len(counts_df)):\n",
    "    gene_id = genes_dict[counts_df.loc[i,'id']]\n",
    "    gene_ids.append(gene_id)\n",
    "    score = round(top_edge_scores[i], 5)\n",
    "    scores.append(score)\n",
    "    if gene_id in gene_names[\"geneSymbol\"]:\n",
    "        gene_symbol = gene_names.loc[gene_id, \"geneSymbol\"]\n",
    "    else:\n",
    "        gene_symbol = \"Unknown\"\n",
    "    gene_symbols.append(gene_symbol)\n",
    "\n",
    "for i in range(len(gene_ids)):\n",
    "    print(str(gene_ids[i]).ljust(10), str(gene_symbols[i]).ljust(20), str(scores[i]))"
   ]
  },
  {
   "cell_type": "code",
   "execution_count": 5,
   "id": "9f2c3a34-221e-42bf-b5d7-009bf626ec78",
   "metadata": {
    "execution": {
     "iopub.execute_input": "2024-02-28T10:29:53.034255Z",
     "iopub.status.busy": "2024-02-28T10:29:53.033876Z",
     "iopub.status.idle": "2024-02-28T10:29:53.048410Z",
     "shell.execute_reply": "2024-02-28T10:29:53.047570Z",
     "shell.execute_reply.started": "2024-02-28T10:29:53.034227Z"
    },
    "tags": []
   },
   "outputs": [
    {
     "data": {
      "text/html": [
       "<div>\n",
       "<style scoped>\n",
       "    .dataframe tbody tr th:only-of-type {\n",
       "        vertical-align: middle;\n",
       "    }\n",
       "\n",
       "    .dataframe tbody tr th {\n",
       "        vertical-align: top;\n",
       "    }\n",
       "\n",
       "    .dataframe thead th {\n",
       "        text-align: right;\n",
       "    }\n",
       "</style>\n",
       "<table border=\"1\" class=\"dataframe\">\n",
       "  <thead>\n",
       "    <tr style=\"text-align: right;\">\n",
       "      <th></th>\n",
       "      <th>id</th>\n",
       "      <th>symbol</th>\n",
       "      <th>score</th>\n",
       "      <th>Count</th>\n",
       "    </tr>\n",
       "  </thead>\n",
       "  <tbody>\n",
       "    <tr>\n",
       "      <th>0</th>\n",
       "      <td>580</td>\n",
       "      <td>BARD1</td>\n",
       "      <td>0.999</td>\n",
       "      <td>3</td>\n",
       "    </tr>\n",
       "    <tr>\n",
       "      <th>1</th>\n",
       "      <td>580</td>\n",
       "      <td>BARD1</td>\n",
       "      <td>0.972</td>\n",
       "      <td>3</td>\n",
       "    </tr>\n",
       "    <tr>\n",
       "      <th>2</th>\n",
       "      <td>580</td>\n",
       "      <td>BARD1</td>\n",
       "      <td>0.995</td>\n",
       "      <td>3</td>\n",
       "    </tr>\n",
       "    <tr>\n",
       "      <th>3</th>\n",
       "      <td>417</td>\n",
       "      <td>ART1</td>\n",
       "      <td>0.999</td>\n",
       "      <td>3</td>\n",
       "    </tr>\n",
       "    <tr>\n",
       "      <th>4</th>\n",
       "      <td>417</td>\n",
       "      <td>ART1</td>\n",
       "      <td>0.995</td>\n",
       "      <td>3</td>\n",
       "    </tr>\n",
       "    <tr>\n",
       "      <th>...</th>\n",
       "      <td>...</td>\n",
       "      <td>...</td>\n",
       "      <td>...</td>\n",
       "      <td>...</td>\n",
       "    </tr>\n",
       "    <tr>\n",
       "      <th>1995</th>\n",
       "      <td>1488</td>\n",
       "      <td>CTBP2</td>\n",
       "      <td>0.986</td>\n",
       "      <td>1</td>\n",
       "    </tr>\n",
       "    <tr>\n",
       "      <th>1996</th>\n",
       "      <td>367</td>\n",
       "      <td>AR</td>\n",
       "      <td>0.946</td>\n",
       "      <td>1</td>\n",
       "    </tr>\n",
       "    <tr>\n",
       "      <th>1997</th>\n",
       "      <td>1588</td>\n",
       "      <td>CYP19A1</td>\n",
       "      <td>0.923</td>\n",
       "      <td>1</td>\n",
       "    </tr>\n",
       "    <tr>\n",
       "      <th>1998</th>\n",
       "      <td>1018</td>\n",
       "      <td>CDK3</td>\n",
       "      <td>0.906</td>\n",
       "      <td>1</td>\n",
       "    </tr>\n",
       "    <tr>\n",
       "      <th>1999</th>\n",
       "      <td>276</td>\n",
       "      <td>Unknown</td>\n",
       "      <td>0.867</td>\n",
       "      <td>1</td>\n",
       "    </tr>\n",
       "  </tbody>\n",
       "</table>\n",
       "<p>2000 rows × 4 columns</p>\n",
       "</div>"
      ],
      "text/plain": [
       "        id   symbol  score  Count\n",
       "0      580    BARD1  0.999      3\n",
       "1      580    BARD1  0.972      3\n",
       "2      580    BARD1  0.995      3\n",
       "3      417     ART1  0.999      3\n",
       "4      417     ART1  0.995      3\n",
       "...    ...      ...    ...    ...\n",
       "1995  1488    CTBP2  0.986      1\n",
       "1996   367       AR  0.946      1\n",
       "1997  1588  CYP19A1  0.923      1\n",
       "1998  1018     CDK3  0.906      1\n",
       "1999   276  Unknown  0.867      1\n",
       "\n",
       "[2000 rows x 4 columns]"
      ]
     },
     "execution_count": 5,
     "metadata": {},
     "output_type": "execute_result"
    }
   ],
   "source": []
  },
  {
   "cell_type": "code",
   "execution_count": 8,
   "id": "2f71f50d-fa85-41da-8375-509797d3b287",
   "metadata": {
    "execution": {
     "iopub.execute_input": "2024-02-28T10:31:44.591000Z",
     "iopub.status.busy": "2024-02-28T10:31:44.590612Z",
     "iopub.status.idle": "2024-02-28T10:31:44.603457Z",
     "shell.execute_reply": "2024-02-28T10:31:44.602574Z",
     "shell.execute_reply.started": "2024-02-28T10:31:44.590970Z"
    },
    "tags": []
   },
   "outputs": [
    {
     "data": {
      "text/html": [
       "<div>\n",
       "<style scoped>\n",
       "    .dataframe tbody tr th:only-of-type {\n",
       "        vertical-align: middle;\n",
       "    }\n",
       "\n",
       "    .dataframe tbody tr th {\n",
       "        vertical-align: top;\n",
       "    }\n",
       "\n",
       "    .dataframe thead th {\n",
       "        text-align: right;\n",
       "    }\n",
       "</style>\n",
       "<table border=\"1\" class=\"dataframe\">\n",
       "  <thead>\n",
       "    <tr style=\"text-align: right;\">\n",
       "      <th></th>\n",
       "      <th>id</th>\n",
       "      <th>symbol</th>\n",
       "      <th>score</th>\n",
       "      <th>Count</th>\n",
       "    </tr>\n",
       "  </thead>\n",
       "  <tbody>\n",
       "    <tr>\n",
       "      <th>54</th>\n",
       "      <td>22</td>\n",
       "      <td>ABCB7</td>\n",
       "      <td>0.909</td>\n",
       "      <td>13</td>\n",
       "    </tr>\n",
       "    <tr>\n",
       "      <th>55</th>\n",
       "      <td>22</td>\n",
       "      <td>ABCB7</td>\n",
       "      <td>0.972</td>\n",
       "      <td>13</td>\n",
       "    </tr>\n",
       "    <tr>\n",
       "      <th>53</th>\n",
       "      <td>22</td>\n",
       "      <td>ABCB7</td>\n",
       "      <td>0.996</td>\n",
       "      <td>13</td>\n",
       "    </tr>\n",
       "    <tr>\n",
       "      <th>52</th>\n",
       "      <td>22</td>\n",
       "      <td>ABCB7</td>\n",
       "      <td>0.975</td>\n",
       "      <td>13</td>\n",
       "    </tr>\n",
       "    <tr>\n",
       "      <th>51</th>\n",
       "      <td>22</td>\n",
       "      <td>ABCB7</td>\n",
       "      <td>0.991</td>\n",
       "      <td>13</td>\n",
       "    </tr>\n",
       "    <tr>\n",
       "      <th>...</th>\n",
       "      <td>...</td>\n",
       "      <td>...</td>\n",
       "      <td>...</td>\n",
       "      <td>...</td>\n",
       "    </tr>\n",
       "    <tr>\n",
       "      <th>564</th>\n",
       "      <td>831</td>\n",
       "      <td>CAST</td>\n",
       "      <td>0.944</td>\n",
       "      <td>1</td>\n",
       "    </tr>\n",
       "    <tr>\n",
       "      <th>1518</th>\n",
       "      <td>629</td>\n",
       "      <td>CFB</td>\n",
       "      <td>0.954</td>\n",
       "      <td>1</td>\n",
       "    </tr>\n",
       "    <tr>\n",
       "      <th>563</th>\n",
       "      <td>343</td>\n",
       "      <td>AQP8</td>\n",
       "      <td>0.945</td>\n",
       "      <td>1</td>\n",
       "    </tr>\n",
       "    <tr>\n",
       "      <th>562</th>\n",
       "      <td>2066</td>\n",
       "      <td>ERBB4</td>\n",
       "      <td>0.947</td>\n",
       "      <td>1</td>\n",
       "    </tr>\n",
       "    <tr>\n",
       "      <th>1999</th>\n",
       "      <td>276</td>\n",
       "      <td>Unknown</td>\n",
       "      <td>0.867</td>\n",
       "      <td>1</td>\n",
       "    </tr>\n",
       "  </tbody>\n",
       "</table>\n",
       "<p>2000 rows × 4 columns</p>\n",
       "</div>"
      ],
      "text/plain": [
       "        id   symbol  score  Count\n",
       "54      22    ABCB7  0.909     13\n",
       "55      22    ABCB7  0.972     13\n",
       "53      22    ABCB7  0.996     13\n",
       "52      22    ABCB7  0.975     13\n",
       "51      22    ABCB7  0.991     13\n",
       "...    ...      ...    ...    ...\n",
       "564    831     CAST  0.944      1\n",
       "1518   629      CFB  0.954      1\n",
       "563    343     AQP8  0.945      1\n",
       "562   2066    ERBB4  0.947      1\n",
       "1999   276  Unknown  0.867      1\n",
       "\n",
       "[2000 rows x 4 columns]"
      ]
     },
     "execution_count": 8,
     "metadata": {},
     "output_type": "execute_result"
    }
   ],
   "source": [
    "sorted_df = df_merged.sort_values(by='Count', ascending=False)\n",
    "sorted_df"
   ]
  },
  {
   "cell_type": "code",
   "execution_count": null,
   "id": "54a5171a-136e-43a9-af23-44e3e5371ab3",
   "metadata": {},
   "outputs": [],
   "source": []
  }
 ],
 "metadata": {
  "kernelspec": {
   "display_name": "saturn (Python 3)",
   "language": "python",
   "name": "python3"
  },
  "language_info": {
   "codemirror_mode": {
    "name": "ipython",
    "version": 3
   },
   "file_extension": ".py",
   "mimetype": "text/x-python",
   "name": "python",
   "nbconvert_exporter": "python",
   "pygments_lexer": "ipython3",
   "version": "3.9.15"
  }
 },
 "nbformat": 4,
 "nbformat_minor": 5
}
