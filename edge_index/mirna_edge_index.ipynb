{
 "cells": [
  {
   "cell_type": "code",
   "execution_count": 1,
   "id": "f10acf40-9ba0-40ce-bb45-9176b120fd24",
   "metadata": {
    "tags": []
   },
   "outputs": [],
   "source": [
    "import os\n",
    "import pandas as pd\n",
    "import numpy as np\n",
    "import json"
   ]
  },
  {
   "cell_type": "code",
   "execution_count": 2,
   "id": "b25f0353-088b-4464-b2b8-5d05555a8c29",
   "metadata": {
    "tags": []
   },
   "outputs": [
    {
     "name": "stdout",
     "output_type": "stream",
     "text": [
      "18315\n"
     ]
    }
   ],
   "source": [
    "# gene_mapping_dictionary from json file, consider datatypes in the dictionary!\n",
    "\n",
    "file_path = '/home/ahmed_kh/project/graph/genes/edge_index/mapping_dicts/genes_dict.json'\n",
    "with open(file_path, 'r') as json_file:\n",
    "    genes_dict_json = json.load(json_file)\n",
    "\n",
    "#convert back strings into integers as they got mutated in json conversion! \n",
    "    genes_dict = {str(key): value for key, value in genes_dict_json.items()}\n",
    "    \n",
    "print(len(genes_dict))"
   ]
  },
  {
   "cell_type": "code",
   "execution_count": 3,
   "id": "0af0591e-6e15-46bd-964a-981b811ec1ad",
   "metadata": {
    "tags": []
   },
   "outputs": [
    {
     "data": {
      "text/plain": [
       "0               10\n",
       "1              100\n",
       "2             1000\n",
       "3            10000\n",
       "4        100008586\n",
       "           ...    \n",
       "18310         9992\n",
       "18311         9993\n",
       "18312         9994\n",
       "18313         9997\n",
       "18314    gene_from\n",
       "Name: 1, Length: 18315, dtype: object"
      ]
     },
     "execution_count": 3,
     "metadata": {},
     "output_type": "execute_result"
    }
   ],
   "source": [
    "# read bp-gene edge file\n",
    "mir_all = pd.read_csv(\"/home/ahmed_kh/drkg/databases/mirna_gene.csv\")\n",
    "genes = pd.read_csv(\"/home/ahmed_kh/drkg/databases/mir_gene.csv\")\n",
    "genes = genes.astype('str')\n",
    "genes['1']"
   ]
  },
  {
   "cell_type": "code",
   "execution_count": 4,
   "id": "c2ad9ccd-6b2d-4c22-9517-fb6ecee0c7b6",
   "metadata": {
    "tags": []
   },
   "outputs": [
    {
     "data": {
      "text/html": [
       "<div>\n",
       "<style scoped>\n",
       "    .dataframe tbody tr th:only-of-type {\n",
       "        vertical-align: middle;\n",
       "    }\n",
       "\n",
       "    .dataframe tbody tr th {\n",
       "        vertical-align: top;\n",
       "    }\n",
       "\n",
       "    .dataframe thead th {\n",
       "        text-align: right;\n",
       "    }\n",
       "</style>\n",
       "<table border=\"1\" class=\"dataframe\">\n",
       "  <thead>\n",
       "    <tr style=\"text-align: right;\">\n",
       "      <th></th>\n",
       "      <th>miRNA</th>\n",
       "      <th>Target Gene (Entrez Gene ID)</th>\n",
       "    </tr>\n",
       "  </thead>\n",
       "  <tbody>\n",
       "    <tr>\n",
       "      <th>0</th>\n",
       "      <td>hsa-m+A2:B29iR-20a</td>\n",
       "      <td>3091</td>\n",
       "    </tr>\n",
       "    <tr>\n",
       "      <th>1</th>\n",
       "      <td>hsa-miR-146a</td>\n",
       "      <td>7852</td>\n",
       "    </tr>\n",
       "    <tr>\n",
       "      <th>2</th>\n",
       "      <td>hsa-miR-122</td>\n",
       "      <td>1581</td>\n",
       "    </tr>\n",
       "    <tr>\n",
       "      <th>3</th>\n",
       "      <td>hsa-miR-222</td>\n",
       "      <td>6776</td>\n",
       "    </tr>\n",
       "    <tr>\n",
       "      <th>4</th>\n",
       "      <td>hsa-miR-21</td>\n",
       "      <td>10125</td>\n",
       "    </tr>\n",
       "    <tr>\n",
       "      <th>...</th>\n",
       "      <td>...</td>\n",
       "      <td>...</td>\n",
       "    </tr>\n",
       "    <tr>\n",
       "      <th>163085</th>\n",
       "      <td>hsa-miR-891a</td>\n",
       "      <td>196743</td>\n",
       "    </tr>\n",
       "    <tr>\n",
       "      <th>163086</th>\n",
       "      <td>hsa-miR-891a</td>\n",
       "      <td>54962</td>\n",
       "    </tr>\n",
       "    <tr>\n",
       "      <th>163087</th>\n",
       "      <td>hsa-miR-891a</td>\n",
       "      <td>123720</td>\n",
       "    </tr>\n",
       "    <tr>\n",
       "      <th>163088</th>\n",
       "      <td>hsa-miR-892a</td>\n",
       "      <td>692312</td>\n",
       "    </tr>\n",
       "    <tr>\n",
       "      <th>163089</th>\n",
       "      <td>hsa-miR-9</td>\n",
       "      <td>7068</td>\n",
       "    </tr>\n",
       "  </tbody>\n",
       "</table>\n",
       "<p>163090 rows × 2 columns</p>\n",
       "</div>"
      ],
      "text/plain": [
       "                     miRNA Target Gene (Entrez Gene ID)\n",
       "0       hsa-m+A2:B29iR-20a                         3091\n",
       "1             hsa-miR-146a                         7852\n",
       "2              hsa-miR-122                         1581\n",
       "3              hsa-miR-222                         6776\n",
       "4               hsa-miR-21                        10125\n",
       "...                    ...                          ...\n",
       "163085        hsa-miR-891a                       196743\n",
       "163086        hsa-miR-891a                        54962\n",
       "163087        hsa-miR-891a                       123720\n",
       "163088        hsa-miR-892a                       692312\n",
       "163089           hsa-miR-9                         7068\n",
       "\n",
       "[163090 rows x 2 columns]"
      ]
     },
     "execution_count": 4,
     "metadata": {},
     "output_type": "execute_result"
    }
   ],
   "source": [
    "mir_all = mir_all.astype('str')\n",
    "mir_all"
   ]
  },
  {
   "cell_type": "code",
   "execution_count": 5,
   "id": "88f49605-e249-4501-a959-6a18cdfebd90",
   "metadata": {
    "tags": []
   },
   "outputs": [],
   "source": [
    "mir_all.rename(columns={mir_all.columns[1]: 'gene_id'}, inplace=True)"
   ]
  },
  {
   "cell_type": "code",
   "execution_count": 6,
   "id": "499ad0c9-72b1-4659-9bb9-df5092fa1b91",
   "metadata": {
    "tags": []
   },
   "outputs": [],
   "source": [
    "mir_all =  mir_all[mir_all['gene_id'].isin(genes['1'])]\n",
    "mir_all = mir_all.astype('str')"
   ]
  },
  {
   "cell_type": "code",
   "execution_count": 7,
   "id": "44489e40-ad7d-4195-890a-46094959cc7c",
   "metadata": {
    "tags": []
   },
   "outputs": [
    {
     "data": {
      "text/plain": [
       "(158526, 2)"
      ]
     },
     "execution_count": 7,
     "metadata": {},
     "output_type": "execute_result"
    }
   ],
   "source": [
    "mir_all.shape"
   ]
  },
  {
   "cell_type": "code",
   "execution_count": 8,
   "id": "ea464f65-5e7d-4abd-8646-f767299d39ed",
   "metadata": {
    "tags": []
   },
   "outputs": [
    {
     "data": {
      "text/html": [
       "<div>\n",
       "<style scoped>\n",
       "    .dataframe tbody tr th:only-of-type {\n",
       "        vertical-align: middle;\n",
       "    }\n",
       "\n",
       "    .dataframe tbody tr th {\n",
       "        vertical-align: top;\n",
       "    }\n",
       "\n",
       "    .dataframe thead th {\n",
       "        text-align: right;\n",
       "    }\n",
       "</style>\n",
       "<table border=\"1\" class=\"dataframe\">\n",
       "  <thead>\n",
       "    <tr style=\"text-align: right;\">\n",
       "      <th></th>\n",
       "      <th>miRNA</th>\n",
       "      <th>gene_id</th>\n",
       "    </tr>\n",
       "  </thead>\n",
       "  <tbody>\n",
       "    <tr>\n",
       "      <th>0</th>\n",
       "      <td>hsa-m+A2:B29iR-20a</td>\n",
       "      <td>3091</td>\n",
       "    </tr>\n",
       "    <tr>\n",
       "      <th>1</th>\n",
       "      <td>hsa-miR-146a</td>\n",
       "      <td>7852</td>\n",
       "    </tr>\n",
       "    <tr>\n",
       "      <th>2</th>\n",
       "      <td>hsa-miR-122</td>\n",
       "      <td>1581</td>\n",
       "    </tr>\n",
       "    <tr>\n",
       "      <th>3</th>\n",
       "      <td>hsa-miR-222</td>\n",
       "      <td>6776</td>\n",
       "    </tr>\n",
       "    <tr>\n",
       "      <th>4</th>\n",
       "      <td>hsa-miR-21</td>\n",
       "      <td>10125</td>\n",
       "    </tr>\n",
       "    <tr>\n",
       "      <th>...</th>\n",
       "      <td>...</td>\n",
       "      <td>...</td>\n",
       "    </tr>\n",
       "    <tr>\n",
       "      <th>163085</th>\n",
       "      <td>hsa-miR-891a</td>\n",
       "      <td>196743</td>\n",
       "    </tr>\n",
       "    <tr>\n",
       "      <th>163086</th>\n",
       "      <td>hsa-miR-891a</td>\n",
       "      <td>54962</td>\n",
       "    </tr>\n",
       "    <tr>\n",
       "      <th>163087</th>\n",
       "      <td>hsa-miR-891a</td>\n",
       "      <td>123720</td>\n",
       "    </tr>\n",
       "    <tr>\n",
       "      <th>163088</th>\n",
       "      <td>hsa-miR-892a</td>\n",
       "      <td>692312</td>\n",
       "    </tr>\n",
       "    <tr>\n",
       "      <th>163089</th>\n",
       "      <td>hsa-miR-9</td>\n",
       "      <td>7068</td>\n",
       "    </tr>\n",
       "  </tbody>\n",
       "</table>\n",
       "<p>158526 rows × 2 columns</p>\n",
       "</div>"
      ],
      "text/plain": [
       "                     miRNA gene_id\n",
       "0       hsa-m+A2:B29iR-20a    3091\n",
       "1             hsa-miR-146a    7852\n",
       "2              hsa-miR-122    1581\n",
       "3              hsa-miR-222    6776\n",
       "4               hsa-miR-21   10125\n",
       "...                    ...     ...\n",
       "163085        hsa-miR-891a  196743\n",
       "163086        hsa-miR-891a   54962\n",
       "163087        hsa-miR-891a  123720\n",
       "163088        hsa-miR-892a  692312\n",
       "163089           hsa-miR-9    7068\n",
       "\n",
       "[158526 rows x 2 columns]"
      ]
     },
     "execution_count": 8,
     "metadata": {},
     "output_type": "execute_result"
    }
   ],
   "source": [
    "mirna = mir_all\n",
    "mirna"
   ]
  },
  {
   "cell_type": "code",
   "execution_count": 9,
   "id": "133cb3e5-6f3e-4775-8a7d-aed0cd98ef8f",
   "metadata": {
    "tags": []
   },
   "outputs": [
    {
     "data": {
      "text/plain": [
       "569"
      ]
     },
     "execution_count": 9,
     "metadata": {},
     "output_type": "execute_result"
    }
   ],
   "source": [
    "# uinque pw terms\n",
    "unique_mirna_ids = mirna['miRNA'].sort_values().unique()\n",
    "\n",
    "# Convert the NumPy array to a Pandas Series\n",
    "unique_mirna_ids = pd.Series(unique_mirna_ids)\n",
    "unique_mirna_ids\n",
    "# create pw_dict \n",
    "mirna_map_dict = {str(value): key for key, value in unique_mirna_ids.to_dict().items()}\n",
    "len(mirna_map_dict)"
   ]
  },
  {
   "cell_type": "code",
   "execution_count": 10,
   "id": "32c17571-582a-4622-bd81-77e4b1a2c3c1",
   "metadata": {
    "tags": []
   },
   "outputs": [],
   "source": [
    "mirna = mirna.astype('str')"
   ]
  },
  {
   "cell_type": "code",
   "execution_count": 11,
   "id": "b4317953-af6e-4017-b19c-e3082e73d394",
   "metadata": {
    "tags": []
   },
   "outputs": [
    {
     "name": "stdout",
     "output_type": "stream",
     "text": [
      "Done (2, 158526)\n"
     ]
    }
   ],
   "source": [
    "# Edge index mapping from gene_dict and pw_dict\n",
    "mirna[\"gene_id\"] = mirna[\"gene_id\"].map(genes_dict)\n",
    "mirna[\"miRNA\"] = mirna[\"miRNA\"].map(mirna_map_dict)\n",
    "mirna\n",
    "#mirna = mirna.dropna()\n",
    "mirna[\"gene_id\"] = mirna[\"gene_id\"].astype(int)\n",
    "mirna[\"miRNA\"] = mirna[\"miRNA\"].astype(int)\n",
    "edge_index = mirna[[\"gene_id\", \"miRNA\"]].values.transpose()\n",
    "\n",
    "# save gene-pw edge index\n",
    "np.save('/home/ahmed_kh/project/graph/genes/edge_index/mirna_edge_index.npy', edge_index)\n",
    "print(\"Done\", edge_index.shape) # [2 x num_edges]"
   ]
  },
  {
   "cell_type": "code",
   "execution_count": null,
   "id": "a863c4e9-ae5f-44d5-ac74-8ca2342aa371",
   "metadata": {},
   "outputs": [],
   "source": []
  }
 ],
 "metadata": {
  "kernelspec": {
   "display_name": "Python 3 (ipykernel)",
   "language": "python",
   "name": "python3"
  },
  "language_info": {
   "codemirror_mode": {
    "name": "ipython",
    "version": 3
   },
   "file_extension": ".py",
   "mimetype": "text/x-python",
   "name": "python",
   "nbconvert_exporter": "python",
   "pygments_lexer": "ipython3",
   "version": "3.10.10"
  }
 },
 "nbformat": 4,
 "nbformat_minor": 5
}
